{
 "cells": [
  {
   "cell_type": "code",
   "execution_count": 1,
   "metadata": {},
   "outputs": [],
   "source": [
    "import numpy as np \n",
    "import matplotlib.pyplot as plt\n",
    "import pandas as pd"
   ]
  },
  {
   "cell_type": "code",
   "execution_count": 2,
   "metadata": {},
   "outputs": [],
   "source": [
    "df = pd.read_csv('train (2).csv')"
   ]
  },
  {
   "cell_type": "code",
   "execution_count": 3,
   "metadata": {},
   "outputs": [
    {
     "data": {
      "text/html": [
       "<div>\n",
       "<style scoped>\n",
       "    .dataframe tbody tr th:only-of-type {\n",
       "        vertical-align: middle;\n",
       "    }\n",
       "\n",
       "    .dataframe tbody tr th {\n",
       "        vertical-align: top;\n",
       "    }\n",
       "\n",
       "    .dataframe thead th {\n",
       "        text-align: right;\n",
       "    }\n",
       "</style>\n",
       "<table border=\"1\" class=\"dataframe\">\n",
       "  <thead>\n",
       "    <tr style=\"text-align: right;\">\n",
       "      <th></th>\n",
       "      <th>battery_power</th>\n",
       "      <th>blue</th>\n",
       "      <th>clock_speed</th>\n",
       "      <th>dual_sim</th>\n",
       "      <th>fc</th>\n",
       "      <th>four_g</th>\n",
       "      <th>int_memory</th>\n",
       "      <th>m_dep</th>\n",
       "      <th>mobile_wt</th>\n",
       "      <th>n_cores</th>\n",
       "      <th>...</th>\n",
       "      <th>px_height</th>\n",
       "      <th>px_width</th>\n",
       "      <th>ram</th>\n",
       "      <th>sc_h</th>\n",
       "      <th>sc_w</th>\n",
       "      <th>talk_time</th>\n",
       "      <th>three_g</th>\n",
       "      <th>touch_screen</th>\n",
       "      <th>wifi</th>\n",
       "      <th>price_range</th>\n",
       "    </tr>\n",
       "  </thead>\n",
       "  <tbody>\n",
       "    <tr>\n",
       "      <th>0</th>\n",
       "      <td>842</td>\n",
       "      <td>0</td>\n",
       "      <td>2.2</td>\n",
       "      <td>0</td>\n",
       "      <td>1</td>\n",
       "      <td>0</td>\n",
       "      <td>7</td>\n",
       "      <td>0.6</td>\n",
       "      <td>188</td>\n",
       "      <td>2</td>\n",
       "      <td>...</td>\n",
       "      <td>20</td>\n",
       "      <td>756</td>\n",
       "      <td>2549</td>\n",
       "      <td>9</td>\n",
       "      <td>7</td>\n",
       "      <td>19</td>\n",
       "      <td>0</td>\n",
       "      <td>0</td>\n",
       "      <td>1</td>\n",
       "      <td>1</td>\n",
       "    </tr>\n",
       "    <tr>\n",
       "      <th>1</th>\n",
       "      <td>1021</td>\n",
       "      <td>1</td>\n",
       "      <td>0.5</td>\n",
       "      <td>1</td>\n",
       "      <td>0</td>\n",
       "      <td>1</td>\n",
       "      <td>53</td>\n",
       "      <td>0.7</td>\n",
       "      <td>136</td>\n",
       "      <td>3</td>\n",
       "      <td>...</td>\n",
       "      <td>905</td>\n",
       "      <td>1988</td>\n",
       "      <td>2631</td>\n",
       "      <td>17</td>\n",
       "      <td>3</td>\n",
       "      <td>7</td>\n",
       "      <td>1</td>\n",
       "      <td>1</td>\n",
       "      <td>0</td>\n",
       "      <td>2</td>\n",
       "    </tr>\n",
       "    <tr>\n",
       "      <th>2</th>\n",
       "      <td>563</td>\n",
       "      <td>1</td>\n",
       "      <td>0.5</td>\n",
       "      <td>1</td>\n",
       "      <td>2</td>\n",
       "      <td>1</td>\n",
       "      <td>41</td>\n",
       "      <td>0.9</td>\n",
       "      <td>145</td>\n",
       "      <td>5</td>\n",
       "      <td>...</td>\n",
       "      <td>1263</td>\n",
       "      <td>1716</td>\n",
       "      <td>2603</td>\n",
       "      <td>11</td>\n",
       "      <td>2</td>\n",
       "      <td>9</td>\n",
       "      <td>1</td>\n",
       "      <td>1</td>\n",
       "      <td>0</td>\n",
       "      <td>2</td>\n",
       "    </tr>\n",
       "    <tr>\n",
       "      <th>3</th>\n",
       "      <td>615</td>\n",
       "      <td>1</td>\n",
       "      <td>2.5</td>\n",
       "      <td>0</td>\n",
       "      <td>0</td>\n",
       "      <td>0</td>\n",
       "      <td>10</td>\n",
       "      <td>0.8</td>\n",
       "      <td>131</td>\n",
       "      <td>6</td>\n",
       "      <td>...</td>\n",
       "      <td>1216</td>\n",
       "      <td>1786</td>\n",
       "      <td>2769</td>\n",
       "      <td>16</td>\n",
       "      <td>8</td>\n",
       "      <td>11</td>\n",
       "      <td>1</td>\n",
       "      <td>0</td>\n",
       "      <td>0</td>\n",
       "      <td>2</td>\n",
       "    </tr>\n",
       "    <tr>\n",
       "      <th>4</th>\n",
       "      <td>1821</td>\n",
       "      <td>1</td>\n",
       "      <td>1.2</td>\n",
       "      <td>0</td>\n",
       "      <td>13</td>\n",
       "      <td>1</td>\n",
       "      <td>44</td>\n",
       "      <td>0.6</td>\n",
       "      <td>141</td>\n",
       "      <td>2</td>\n",
       "      <td>...</td>\n",
       "      <td>1208</td>\n",
       "      <td>1212</td>\n",
       "      <td>1411</td>\n",
       "      <td>8</td>\n",
       "      <td>2</td>\n",
       "      <td>15</td>\n",
       "      <td>1</td>\n",
       "      <td>1</td>\n",
       "      <td>0</td>\n",
       "      <td>1</td>\n",
       "    </tr>\n",
       "  </tbody>\n",
       "</table>\n",
       "<p>5 rows × 21 columns</p>\n",
       "</div>"
      ],
      "text/plain": [
       "   battery_power  blue  clock_speed  dual_sim  fc  four_g  int_memory  m_dep  \\\n",
       "0            842     0          2.2         0   1       0           7    0.6   \n",
       "1           1021     1          0.5         1   0       1          53    0.7   \n",
       "2            563     1          0.5         1   2       1          41    0.9   \n",
       "3            615     1          2.5         0   0       0          10    0.8   \n",
       "4           1821     1          1.2         0  13       1          44    0.6   \n",
       "\n",
       "   mobile_wt  n_cores  ...  px_height  px_width   ram  sc_h  sc_w  talk_time  \\\n",
       "0        188        2  ...         20       756  2549     9     7         19   \n",
       "1        136        3  ...        905      1988  2631    17     3          7   \n",
       "2        145        5  ...       1263      1716  2603    11     2          9   \n",
       "3        131        6  ...       1216      1786  2769    16     8         11   \n",
       "4        141        2  ...       1208      1212  1411     8     2         15   \n",
       "\n",
       "   three_g  touch_screen  wifi  price_range  \n",
       "0        0             0     1            1  \n",
       "1        1             1     0            2  \n",
       "2        1             1     0            2  \n",
       "3        1             0     0            2  \n",
       "4        1             1     0            1  \n",
       "\n",
       "[5 rows x 21 columns]"
      ]
     },
     "execution_count": 3,
     "metadata": {},
     "output_type": "execute_result"
    }
   ],
   "source": [
    "df.head()"
   ]
  },
  {
   "cell_type": "code",
   "execution_count": 4,
   "metadata": {},
   "outputs": [
    {
     "data": {
      "text/plain": [
       "Index(['battery_power', 'blue', 'clock_speed', 'dual_sim', 'fc', 'four_g',\n",
       "       'int_memory', 'm_dep', 'mobile_wt', 'n_cores', 'pc', 'px_height',\n",
       "       'px_width', 'ram', 'sc_h', 'sc_w', 'talk_time', 'three_g',\n",
       "       'touch_screen', 'wifi', 'price_range'],\n",
       "      dtype='object')"
      ]
     },
     "execution_count": 4,
     "metadata": {},
     "output_type": "execute_result"
    }
   ],
   "source": [
    "df.columns"
   ]
  },
  {
   "cell_type": "markdown",
   "metadata": {},
   "source": [
    "### Changing pandas dataframe to numpy array"
   ]
  },
  {
   "cell_type": "code",
   "execution_count": 5,
   "metadata": {},
   "outputs": [],
   "source": [
    "x = df.iloc[:,:20].values\n",
    "y = df.iloc[:,20:21].values"
   ]
  },
  {
   "cell_type": "markdown",
   "metadata": {},
   "source": [
    "### Normalizing the data"
   ]
  },
  {
   "cell_type": "code",
   "execution_count": 6,
   "metadata": {},
   "outputs": [],
   "source": [
    "from sklearn.preprocessing import StandardScaler"
   ]
  },
  {
   "cell_type": "code",
   "execution_count": 7,
   "metadata": {},
   "outputs": [],
   "source": [
    "sc = StandardScaler()\n",
    "X =sc.fit_transform(x)"
   ]
  },
  {
   "cell_type": "code",
   "execution_count": 8,
   "metadata": {},
   "outputs": [
    {
     "name": "stdout",
     "output_type": "stream",
     "text": [
      "[-0.90259726 -0.9900495   0.83077942 -1.01918398 -0.76249466 -1.04396559\n",
      " -1.38064353  0.34073951  1.34924881 -1.10197128 -1.3057501  -1.40894856\n",
      " -1.14678403  0.39170341 -0.78498329  0.2831028   1.46249332 -1.78686097\n",
      " -1.00601811  0.98609664]\n"
     ]
    }
   ],
   "source": [
    "print(X[0])"
   ]
  },
  {
   "cell_type": "markdown",
   "metadata": {},
   "source": [
    "### One hot encode"
   ]
  },
  {
   "cell_type": "code",
   "execution_count": 9,
   "metadata": {},
   "outputs": [],
   "source": [
    "from sklearn.preprocessing import OneHotEncoder"
   ]
  },
  {
   "cell_type": "code",
   "execution_count": 10,
   "metadata": {},
   "outputs": [
    {
     "name": "stdout",
     "output_type": "stream",
     "text": [
      "OneHotArray : \n",
      "[[0. 1. 0. 0.]\n",
      " [0. 0. 1. 0.]\n",
      " [0. 0. 1. 0.]\n",
      " [0. 0. 1. 0.]\n",
      " [0. 1. 0. 0.]]\n"
     ]
    }
   ],
   "source": [
    "ohe = OneHotEncoder()\n",
    "y = ohe.fit_transform(y).toarray()\n",
    "print (\"OneHotArray : \")\n",
    "print(y[0:5])"
   ]
  },
  {
   "cell_type": "markdown",
   "metadata": {},
   "source": [
    "### Train test split of model"
   ]
  },
  {
   "cell_type": "code",
   "execution_count": 11,
   "metadata": {},
   "outputs": [],
   "source": [
    "from sklearn.model_selection import train_test_split\n",
    "X_train,X_test,y_train,y_test = train_test_split(X,y,test_size = 0.1,random_state = 0)"
   ]
  },
  {
   "cell_type": "code",
   "execution_count": 12,
   "metadata": {},
   "outputs": [
    {
     "name": "stdout",
     "output_type": "stream",
     "text": [
      "Requirement already satisfied: keras in c:\\users\\ankit\\onedrive\\documents\\lib\\site-packages (2.4.3)\n",
      "Requirement already satisfied: pyyaml in c:\\users\\ankit\\onedrive\\documents\\lib\\site-packages (from keras) (5.3.1)\n",
      "Requirement already satisfied: h5py in c:\\users\\ankit\\onedrive\\documents\\lib\\site-packages (from keras) (2.10.0)\n",
      "Requirement already satisfied: numpy>=1.9.1 in c:\\users\\ankit\\onedrive\\documents\\lib\\site-packages (from keras) (1.19.5)\n",
      "Requirement already satisfied: scipy>=0.14 in c:\\users\\ankit\\onedrive\\documents\\lib\\site-packages (from keras) (1.5.0)\n",
      "Requirement already satisfied: six in c:\\users\\ankit\\onedrive\\documents\\lib\\site-packages (from h5py->keras) (1.15.0)\n",
      "Note: you may need to restart the kernel to use updated packages.\n"
     ]
    }
   ],
   "source": [
    "pip install keras "
   ]
  },
  {
   "cell_type": "code",
   "execution_count": 13,
   "metadata": {},
   "outputs": [],
   "source": [
    "import keras\n",
    "from keras.models import Sequential\n",
    "from keras.layers import Dense"
   ]
  },
  {
   "cell_type": "code",
   "execution_count": 14,
   "metadata": {},
   "outputs": [],
   "source": [
    "model = Sequential()\n",
    "model.add(Dense(16,input_dim = 20,activation ='relu'))\n",
    "model.add(Dense(12, activation='relu'))\n",
    "model.add(Dense(4, activation ='softmax'))"
   ]
  },
  {
   "cell_type": "code",
   "execution_count": 15,
   "metadata": {},
   "outputs": [
    {
     "name": "stdout",
     "output_type": "stream",
     "text": [
      "Model: \"sequential\"\n",
      "_________________________________________________________________\n",
      "Layer (type)                 Output Shape              Param #   \n",
      "=================================================================\n",
      "dense (Dense)                (None, 16)                336       \n",
      "_________________________________________________________________\n",
      "dense_1 (Dense)              (None, 12)                204       \n",
      "_________________________________________________________________\n",
      "dense_2 (Dense)              (None, 4)                 52        \n",
      "=================================================================\n",
      "Total params: 592\n",
      "Trainable params: 592\n",
      "Non-trainable params: 0\n",
      "_________________________________________________________________\n"
     ]
    }
   ],
   "source": [
    "model.summary()"
   ]
  },
  {
   "cell_type": "code",
   "execution_count": 16,
   "metadata": {},
   "outputs": [],
   "source": [
    "model.compile(loss='categorical_crossentropy', optimizer='adam', metrics=['accuracy'])"
   ]
  },
  {
   "cell_type": "code",
   "execution_count": 17,
   "metadata": {},
   "outputs": [
    {
     "name": "stdout",
     "output_type": "stream",
     "text": [
      "Epoch 1/100\n",
      "29/29 [==============================] - 0s 712us/step - loss: 1.4672 - accuracy: 0.2841\n",
      "Epoch 2/100\n",
      "29/29 [==============================] - 0s 712us/step - loss: 1.3731 - accuracy: 0.3172\n",
      "Epoch 3/100\n",
      "29/29 [==============================] - 0s 819us/step - loss: 1.3065 - accuracy: 0.3690\n",
      "Epoch 4/100\n",
      "29/29 [==============================] - 0s 855us/step - loss: 1.2504 - accuracy: 0.4346\n",
      "Epoch 5/100\n",
      "29/29 [==============================] - 0s 677us/step - loss: 1.1943 - accuracy: 0.4596\n",
      "Epoch 6/100\n",
      "29/29 [==============================] - 0s 690us/step - loss: 1.1152 - accuracy: 0.5115\n",
      "Epoch 7/100\n",
      "29/29 [==============================] - 0s 604us/step - loss: 1.0407 - accuracy: 0.5328\n",
      "Epoch 8/100\n",
      "29/29 [==============================] - 0s 713us/step - loss: 0.9634 - accuracy: 0.5700\n",
      "Epoch 9/100\n",
      "29/29 [==============================] - 0s 712us/step - loss: 0.8684 - accuracy: 0.6154\n",
      "Epoch 10/100\n",
      "29/29 [==============================] - 0s 677us/step - loss: 0.8008 - accuracy: 0.6588\n",
      "Epoch 11/100\n",
      "29/29 [==============================] - 0s 712us/step - loss: 0.7370 - accuracy: 0.7026\n",
      "Epoch 12/100\n",
      "29/29 [==============================] - 0s 748us/step - loss: 0.6832 - accuracy: 0.7253\n",
      "Epoch 13/100\n",
      "29/29 [==============================] - 0s 605us/step - loss: 0.6404 - accuracy: 0.7548\n",
      "Epoch 14/100\n",
      "29/29 [==============================] - 0s 641us/step - loss: 0.5929 - accuracy: 0.8010\n",
      "Epoch 15/100\n",
      "29/29 [==============================] - 0s 641us/step - loss: 0.5490 - accuracy: 0.8174\n",
      "Epoch 16/100\n",
      "29/29 [==============================] - 0s 605us/step - loss: 0.5121 - accuracy: 0.8363\n",
      "Epoch 17/100\n",
      "29/29 [==============================] - 0s 747us/step - loss: 0.4776 - accuracy: 0.8408\n",
      "Epoch 18/100\n",
      "29/29 [==============================] - 0s 855us/step - loss: 0.4448 - accuracy: 0.8510\n",
      "Epoch 19/100\n",
      "29/29 [==============================] - 0s 677us/step - loss: 0.4250 - accuracy: 0.8788\n",
      "Epoch 20/100\n",
      "29/29 [==============================] - 0s 677us/step - loss: 0.3968 - accuracy: 0.8675\n",
      "Epoch 21/100\n",
      "29/29 [==============================] - 0s 641us/step - loss: 0.3590 - accuracy: 0.8990\n",
      "Epoch 22/100\n",
      "29/29 [==============================] - 0s 677us/step - loss: 0.3497 - accuracy: 0.8878\n",
      "Epoch 23/100\n",
      "29/29 [==============================] - 0s 678us/step - loss: 0.3248 - accuracy: 0.9093\n",
      "Epoch 24/100\n",
      "29/29 [==============================] - 0s 641us/step - loss: 0.3000 - accuracy: 0.9156\n",
      "Epoch 25/100\n",
      "29/29 [==============================] - 0s 640us/step - loss: 0.2969 - accuracy: 0.9107\n",
      "Epoch 26/100\n",
      "29/29 [==============================] - 0s 712us/step - loss: 0.2772 - accuracy: 0.9116\n",
      "Epoch 27/100\n",
      "29/29 [==============================] - 0s 641us/step - loss: 0.2696 - accuracy: 0.9228\n",
      "Epoch 28/100\n",
      "29/29 [==============================] - 0s 677us/step - loss: 0.2505 - accuracy: 0.9254\n",
      "Epoch 29/100\n",
      "29/29 [==============================] - 0s 677us/step - loss: 0.2461 - accuracy: 0.9229\n",
      "Epoch 30/100\n",
      "29/29 [==============================] - 0s 677us/step - loss: 0.2387 - accuracy: 0.9316\n",
      "Epoch 31/100\n",
      "29/29 [==============================] - 0s 712us/step - loss: 0.2195 - accuracy: 0.9403\n",
      "Epoch 32/100\n",
      "29/29 [==============================] - 0s 711us/step - loss: 0.2213 - accuracy: 0.9375\n",
      "Epoch 33/100\n",
      "29/29 [==============================] - 0s 605us/step - loss: 0.2082 - accuracy: 0.9334\n",
      "Epoch 34/100\n",
      "29/29 [==============================] - 0s 677us/step - loss: 0.2122 - accuracy: 0.9328\n",
      "Epoch 35/100\n",
      "29/29 [==============================] - 0s 678us/step - loss: 0.1971 - accuracy: 0.9333\n",
      "Epoch 36/100\n",
      "29/29 [==============================] - 0s 641us/step - loss: 0.1864 - accuracy: 0.9411\n",
      "Epoch 37/100\n",
      "29/29 [==============================] - 0s 677us/step - loss: 0.1807 - accuracy: 0.9442\n",
      "Epoch 38/100\n",
      "29/29 [==============================] - 0s 641us/step - loss: 0.1781 - accuracy: 0.9459\n",
      "Epoch 39/100\n",
      "29/29 [==============================] - 0s 641us/step - loss: 0.1652 - accuracy: 0.9499\n",
      "Epoch 40/100\n",
      "29/29 [==============================] - 0s 641us/step - loss: 0.1616 - accuracy: 0.9514\n",
      "Epoch 41/100\n",
      "29/29 [==============================] - 0s 641us/step - loss: 0.1602 - accuracy: 0.9538\n",
      "Epoch 42/100\n",
      "29/29 [==============================] - 0s 605us/step - loss: 0.1530 - accuracy: 0.9566\n",
      "Epoch 43/100\n",
      "29/29 [==============================] - 0s 641us/step - loss: 0.1567 - accuracy: 0.9544\n",
      "Epoch 44/100\n",
      "29/29 [==============================] - 0s 641us/step - loss: 0.1436 - accuracy: 0.9580\n",
      "Epoch 45/100\n",
      "29/29 [==============================] - 0s 641us/step - loss: 0.1405 - accuracy: 0.9559\n",
      "Epoch 46/100\n",
      "29/29 [==============================] - 0s 641us/step - loss: 0.1308 - accuracy: 0.9680\n",
      "Epoch 47/100\n",
      "29/29 [==============================] - 0s 678us/step - loss: 0.1290 - accuracy: 0.9666\n",
      "Epoch 48/100\n",
      "29/29 [==============================] - 0s 712us/step - loss: 0.1308 - accuracy: 0.9575\n",
      "Epoch 49/100\n",
      "29/29 [==============================] - 0s 677us/step - loss: 0.1242 - accuracy: 0.9674\n",
      "Epoch 50/100\n",
      "29/29 [==============================] - 0s 641us/step - loss: 0.1281 - accuracy: 0.9631\n",
      "Epoch 51/100\n",
      "29/29 [==============================] - 0s 712us/step - loss: 0.1194 - accuracy: 0.9678\n",
      "Epoch 52/100\n",
      "29/29 [==============================] - 0s 677us/step - loss: 0.1120 - accuracy: 0.9721\n",
      "Epoch 53/100\n",
      "29/29 [==============================] - 0s 713us/step - loss: 0.1203 - accuracy: 0.9591\n",
      "Epoch 54/100\n",
      "29/29 [==============================] - 0s 677us/step - loss: 0.1129 - accuracy: 0.9668\n",
      "Epoch 55/100\n",
      "29/29 [==============================] - 0s 712us/step - loss: 0.1083 - accuracy: 0.9681\n",
      "Epoch 56/100\n",
      "29/29 [==============================] - 0s 677us/step - loss: 0.1038 - accuracy: 0.9773\n",
      "Epoch 57/100\n",
      "29/29 [==============================] - 0s 712us/step - loss: 0.1065 - accuracy: 0.9707\n",
      "Epoch 58/100\n",
      "29/29 [==============================] - 0s 748us/step - loss: 0.0975 - accuracy: 0.9713\n",
      "Epoch 59/100\n",
      "29/29 [==============================] - 0s 677us/step - loss: 0.1063 - accuracy: 0.9705\n",
      "Epoch 60/100\n",
      "29/29 [==============================] - 0s 748us/step - loss: 0.0914 - accuracy: 0.9792\n",
      "Epoch 61/100\n",
      "29/29 [==============================] - 0s 677us/step - loss: 0.0935 - accuracy: 0.9734\n",
      "Epoch 62/100\n",
      "29/29 [==============================] - 0s 785us/step - loss: 0.0956 - accuracy: 0.9766\n",
      "Epoch 63/100\n",
      "29/29 [==============================] - 0s 712us/step - loss: 0.0926 - accuracy: 0.9773\n",
      "Epoch 64/100\n",
      "29/29 [==============================] - 0s 677us/step - loss: 0.0856 - accuracy: 0.9833\n",
      "Epoch 65/100\n",
      "29/29 [==============================] - 0s 748us/step - loss: 0.0903 - accuracy: 0.9752\n",
      "Epoch 66/100\n",
      "29/29 [==============================] - 0s 784us/step - loss: 0.0880 - accuracy: 0.9783\n",
      "Epoch 67/100\n",
      "29/29 [==============================] - 0s 784us/step - loss: 0.0812 - accuracy: 0.9848\n",
      "Epoch 68/100\n",
      "29/29 [==============================] - 0s 819us/step - loss: 0.0810 - accuracy: 0.9818\n",
      "Epoch 69/100\n",
      "29/29 [==============================] - 0s 712us/step - loss: 0.0810 - accuracy: 0.9830\n",
      "Epoch 70/100\n",
      "29/29 [==============================] - 0s 784us/step - loss: 0.0772 - accuracy: 0.9812\n",
      "Epoch 71/100\n",
      "29/29 [==============================] - 0s 748us/step - loss: 0.0768 - accuracy: 0.9828\n",
      "Epoch 72/100\n",
      "29/29 [==============================] - 0s 748us/step - loss: 0.0745 - accuracy: 0.9821\n",
      "Epoch 73/100\n",
      "29/29 [==============================] - 0s 677us/step - loss: 0.0727 - accuracy: 0.9870\n",
      "Epoch 74/100\n",
      "29/29 [==============================] - 0s 678us/step - loss: 0.0839 - accuracy: 0.9780\n",
      "Epoch 75/100\n",
      "29/29 [==============================] - 0s 712us/step - loss: 0.0741 - accuracy: 0.9848\n",
      "Epoch 76/100\n",
      "29/29 [==============================] - 0s 641us/step - loss: 0.0670 - accuracy: 0.9885\n",
      "Epoch 77/100\n",
      "29/29 [==============================] - 0s 678us/step - loss: 0.0686 - accuracy: 0.9856\n",
      "Epoch 78/100\n",
      "29/29 [==============================] - 0s 606us/step - loss: 0.0698 - accuracy: 0.9824\n",
      "Epoch 79/100\n",
      "29/29 [==============================] - 0s 712us/step - loss: 0.0587 - accuracy: 0.9896\n",
      "Epoch 80/100\n",
      "29/29 [==============================] - 0s 677us/step - loss: 0.0632 - accuracy: 0.9848\n",
      "Epoch 81/100\n"
     ]
    },
    {
     "name": "stdout",
     "output_type": "stream",
     "text": [
      "29/29 [==============================] - 0s 712us/step - loss: 0.0652 - accuracy: 0.9880\n",
      "Epoch 82/100\n",
      "29/29 [==============================] - 0s 641us/step - loss: 0.0661 - accuracy: 0.9862\n",
      "Epoch 83/100\n",
      "29/29 [==============================] - 0s 678us/step - loss: 0.0592 - accuracy: 0.9909\n",
      "Epoch 84/100\n",
      "29/29 [==============================] - 0s 641us/step - loss: 0.0631 - accuracy: 0.9860\n",
      "Epoch 85/100\n",
      "29/29 [==============================] - 0s 641us/step - loss: 0.0577 - accuracy: 0.9908\n",
      "Epoch 86/100\n",
      "29/29 [==============================] - 0s 641us/step - loss: 0.0628 - accuracy: 0.9874\n",
      "Epoch 87/100\n",
      "29/29 [==============================] - 0s 642us/step - loss: 0.0558 - accuracy: 0.9948\n",
      "Epoch 88/100\n",
      "29/29 [==============================] - 0s 641us/step - loss: 0.0561 - accuracy: 0.9910\n",
      "Epoch 89/100\n",
      "29/29 [==============================] - 0s 676us/step - loss: 0.0563 - accuracy: 0.9896\n",
      "Epoch 90/100\n",
      "29/29 [==============================] - 0s 641us/step - loss: 0.0591 - accuracy: 0.9881\n",
      "Epoch 91/100\n",
      "29/29 [==============================] - 0s 641us/step - loss: 0.0562 - accuracy: 0.9938\n",
      "Epoch 92/100\n",
      "29/29 [==============================] - 0s 677us/step - loss: 0.0559 - accuracy: 0.9899\n",
      "Epoch 93/100\n",
      "29/29 [==============================] - 0s 677us/step - loss: 0.0503 - accuracy: 0.9919\n",
      "Epoch 94/100\n",
      "29/29 [==============================] - 0s 641us/step - loss: 0.0503 - accuracy: 0.9923\n",
      "Epoch 95/100\n",
      "29/29 [==============================] - 0s 641us/step - loss: 0.0524 - accuracy: 0.9898\n",
      "Epoch 96/100\n",
      "29/29 [==============================] - 0s 641us/step - loss: 0.0517 - accuracy: 0.9900\n",
      "Epoch 97/100\n",
      "29/29 [==============================] - 0s 641us/step - loss: 0.0468 - accuracy: 0.9911\n",
      "Epoch 98/100\n",
      "29/29 [==============================] - 0s 642us/step - loss: 0.0483 - accuracy: 0.9926\n",
      "Epoch 99/100\n",
      "29/29 [==============================] - 0s 677us/step - loss: 0.0464 - accuracy: 0.9934\n",
      "Epoch 100/100\n",
      "29/29 [==============================] - 0s 641us/step - loss: 0.0433 - accuracy: 0.9919\n"
     ]
    }
   ],
   "source": [
    "history = model.fit(X_train, y_train, epochs=100, batch_size=64)"
   ]
  },
  {
   "cell_type": "code",
   "execution_count": 18,
   "metadata": {},
   "outputs": [],
   "source": [
    "y_pred = model.predict(X_test)\n",
    "#Converting predictions to label\n",
    "pred = list()\n",
    "for i in range(len(y_pred)):\n",
    "    pred.append(np.argmax(y_pred[i]))"
   ]
  },
  {
   "cell_type": "code",
   "execution_count": 19,
   "metadata": {},
   "outputs": [],
   "source": [
    "#Converting one hot encoded test label to label\n",
    "test = list()\n",
    "for i in range(len(y_test)):\n",
    "    test.append(np.argmax(y_test[i]))"
   ]
  },
  {
   "cell_type": "code",
   "execution_count": 20,
   "metadata": {},
   "outputs": [
    {
     "name": "stdout",
     "output_type": "stream",
     "text": [
      "Accuracy is: 93.0\n"
     ]
    }
   ],
   "source": [
    "from sklearn.metrics import accuracy_score\n",
    "a = accuracy_score(pred,test)\n",
    "print('Accuracy is:', a*100)"
   ]
  },
  {
   "cell_type": "code",
   "execution_count": null,
   "metadata": {},
   "outputs": [],
   "source": []
  }
 ],
 "metadata": {
  "kernelspec": {
   "display_name": "Python 3",
   "language": "python",
   "name": "python3"
  },
  "language_info": {
   "codemirror_mode": {
    "name": "ipython",
    "version": 3
   },
   "file_extension": ".py",
   "mimetype": "text/x-python",
   "name": "python",
   "nbconvert_exporter": "python",
   "pygments_lexer": "ipython3",
   "version": "3.8.3"
  }
 },
 "nbformat": 4,
 "nbformat_minor": 4
}
